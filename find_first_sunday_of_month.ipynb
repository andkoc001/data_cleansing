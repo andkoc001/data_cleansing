{
 "cells": [
  {
   "cell_type": "code",
   "execution_count": 1,
   "metadata": {},
   "outputs": [],
   "source": [
    "# Program checks whether the when is the the first Sunday of the month from the given date.\n",
    "\n",
    "import datetime\n",
    "date_format = \"%Y-%m-%d\""
   ]
  },
  {
   "cell_type": "code",
   "execution_count": 178,
   "metadata": {},
   "outputs": [
    {
     "name": "stdout",
     "output_type": "stream",
     "text": [
      "Wybrany dzien: 2022-02-01\n"
     ]
    }
   ],
   "source": [
    "dzien = '2022-02-1'\n",
    "dzien = datetime.datetime.strptime(dzien, date_format).date()\n",
    "print(\"Wybrany dzien:\", dzien)\t"
   ]
  },
  {
   "cell_type": "code",
   "execution_count": 179,
   "metadata": {},
   "outputs": [
    {
     "name": "stdout",
     "output_type": "stream",
     "text": [
      "nie\n",
      "start 2\n",
      "nie 2\n",
      "nie 3\n",
      "nie 4\n",
      "nie 5\n",
      "nie 6\n",
      "koniec 7\n",
      "offset: 5\n",
      "First day: tue\n"
     ]
    }
   ],
   "source": [
    "if (dzien.day < 8) and (dzien.isoweekday() == 7):\n",
    "    print('to pierwsza niedziela')\n",
    "else:\n",
    "    print('nie')\n",
    "    # first day of the given month; 1 == Monday, ..., 7 == Sunday\n",
    "    first_day = datetime.datetime(dzien.year, dzien.month, 1).date()\n",
    "    f = int(first_day.isoweekday())\n",
    "\n",
    "    print('start',f)\n",
    "    offset = 0\n",
    "    while f != 7:\n",
    "        print('nie', f)\n",
    "        f = f + 1\n",
    "        offset = offset + 1\n",
    "    print('koniec',f)\n",
    "    print('offset:',offset)\n",
    "\n",
    "    if offset == 1:\n",
    "        aa = \"sat\"\n",
    "    elif offset == 2:\n",
    "        aa = \"fri\"\n",
    "    elif offset == 3:\n",
    "        aa = \"thu\"\n",
    "    elif offset == 4:\n",
    "        aa = \"wed\"\n",
    "    elif offset == 5:\n",
    "        aa = \"tue\" \n",
    "    elif offset == 6:\n",
    "        aa = \"mon\"\n",
    "    \n",
    "print('First day:',aa)"
   ]
  },
  {
   "cell_type": "code",
   "execution_count": null,
   "metadata": {},
   "outputs": [],
   "source": []
  }
 ],
 "metadata": {
  "kernelspec": {
   "display_name": "Python 3.10.6 64-bit",
   "language": "python",
   "name": "python3"
  },
  "language_info": {
   "codemirror_mode": {
    "name": "ipython",
    "version": 3
   },
   "file_extension": ".py",
   "mimetype": "text/x-python",
   "name": "python",
   "nbconvert_exporter": "python",
   "pygments_lexer": "ipython3",
   "version": "3.10.6"
  },
  "orig_nbformat": 4,
  "vscode": {
   "interpreter": {
    "hash": "916dbcbb3f70747c44a77c7bcd40155683ae19c65e1c03b4aa3499c5328201f1"
   }
  }
 },
 "nbformat": 4,
 "nbformat_minor": 2
}

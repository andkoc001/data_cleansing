{
 "cells": [
  {
   "cell_type": "markdown",
   "id": "5d67f04b-846c-4d2a-837e-2d9aaba6dfa8",
   "metadata": {},
   "source": [
    "# Data cleanising \n",
    "\n",
    "> Author: Andrzej Kocielski  \n",
    "> Created on: 04.09.2022\n",
    "\n",
    "\n",
    "This is cleansing of a messy excel file exercise. It is based on various of sources, prominently on articel by Carsteb Sandtner at:\n",
    "https://towardsdatascience.com/pandas-has-superpowers-in-reading-excel-files-44344bfdaac\n",
    "\n",
    "The sample excel file has been taken from: https://github.com/casarock/pandas_excel_reader/blob/master/complex_file.xlsx.\n",
    "\n",
    "___"
   ]
  },
  {
   "cell_type": "markdown",
   "id": "ec85a2a1-5a1c-4491-ab12-4c23d96a2025",
   "metadata": {},
   "source": [
    "## Importing packages"
   ]
  },
  {
   "cell_type": "code",
   "execution_count": 2,
   "id": "5c983240-6103-453c-8216-e61629532f0d",
   "metadata": {},
   "outputs": [],
   "source": [
    "import pandas as pd"
   ]
  },
  {
   "cell_type": "markdown",
   "id": "5b4f98c1-4174-47f4-b4b6-f474d36a3b8c",
   "metadata": {},
   "source": [
    "## Getting the data\n",
    "\n",
    "The data file - the messy excel file - has been downloaded from above given location and filed in this project directory."
   ]
  }
 ],
 "metadata": {
  "kernelspec": {
   "display_name": "Python 3 (ipykernel)",
   "language": "python",
   "name": "python3"
  },
  "language_info": {
   "codemirror_mode": {
    "name": "ipython",
    "version": 3
   },
   "file_extension": ".py",
   "mimetype": "text/x-python",
   "name": "python",
   "nbconvert_exporter": "python",
   "pygments_lexer": "ipython3",
   "version": "3.10.4"
  }
 },
 "nbformat": 4,
 "nbformat_minor": 5
}

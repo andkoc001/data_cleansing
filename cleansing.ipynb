{
 "cells": [
  {
   "cell_type": "markdown",
   "id": "5d67f04b-846c-4d2a-837e-2d9aaba6dfa8",
   "metadata": {},
   "source": [
    "# Data cleanising \n",
    "\n",
    "> Author: Andrzej Kocielski  \n",
    "> Created on: 04.09.2022\n",
    "\n",
    "\n",
    "This is cleansing of a messy excel file exercise. It is based on various of sources, prominently on articel by Carsteb Sandtner at:\n",
    "https://towardsdatascience.com/pandas-has-superpowers-in-reading-excel-files-44344bfdaac\n",
    "\n",
    "___"
   ]
  },
  {
   "cell_type": "markdown",
   "id": "ec85a2a1-5a1c-4491-ab12-4c23d96a2025",
   "metadata": {},
   "source": [
    "## Importing packages"
   ]
  },
  {
   "cell_type": "code",
   "execution_count": 29,
   "id": "5c983240-6103-453c-8216-e61629532f0d",
   "metadata": {},
   "outputs": [],
   "source": [
    "# import numpy as np\n",
    "import pandas as pd"
   ]
  },
  {
   "cell_type": "markdown",
   "id": "5b4f98c1-4174-47f4-b4b6-f474d36a3b8c",
   "metadata": {},
   "source": [
    "## Getting the data\n",
    "\n",
    "The data file - the messy excel file - has been downloaded from \n",
    "The sample excel file has been taken from: https://github.com/casarock/pandas_excel_reader/blob/master/complex_file.xlsx and filed under the name `complex_file.xlsx` in \"Raw_data\" directory within this project directory."
   ]
  },
  {
   "cell_type": "code",
   "execution_count": 24,
   "id": "bf171ad2-4df6-4c83-9961-d19c24d2862c",
   "metadata": {},
   "outputs": [
    {
     "name": "stdout",
     "output_type": "stream",
     "text": [
      "Raw_data/complex_file.xlsx\n"
     ]
    }
   ],
   "source": [
    "# Load the data into raw dtat frame\n",
    "\n",
    "file_name = r'complex_file.xlsx'\n",
    "path = r'Raw_data/'\n",
    "\n",
    "source = path + file_name\n",
    "print(source)\n",
    "\n",
    "rdf = pd.read_excel(source)"
   ]
  },
  {
   "cell_type": "code",
   "execution_count": 25,
   "id": "b311612d-c413-475e-b488-90172ee7a3c2",
   "metadata": {},
   "outputs": [
    {
     "data": {
      "text/html": [
       "<div>\n",
       "<style scoped>\n",
       "    .dataframe tbody tr th:only-of-type {\n",
       "        vertical-align: middle;\n",
       "    }\n",
       "\n",
       "    .dataframe tbody tr th {\n",
       "        vertical-align: top;\n",
       "    }\n",
       "\n",
       "    .dataframe thead th {\n",
       "        text-align: right;\n",
       "    }\n",
       "</style>\n",
       "<table border=\"1\" class=\"dataframe\">\n",
       "  <thead>\n",
       "    <tr style=\"text-align: right;\">\n",
       "      <th></th>\n",
       "      <th>Unnamed: 0</th>\n",
       "      <th>Unnamed: 1</th>\n",
       "      <th>Unnamed: 2</th>\n",
       "      <th>Unnamed: 3</th>\n",
       "      <th>Unnamed: 4</th>\n",
       "      <th>Unnamed: 5</th>\n",
       "      <th>Unnamed: 6</th>\n",
       "      <th>Unnamed: 7</th>\n",
       "      <th>Unnamed: 8</th>\n",
       "      <th>Unnamed: 9</th>\n",
       "    </tr>\n",
       "  </thead>\n",
       "  <tbody>\n",
       "    <tr>\n",
       "      <th>0</th>\n",
       "      <td>NaN</td>\n",
       "      <td>Dramatic Headline!</td>\n",
       "      <td>NaN</td>\n",
       "      <td>NaN</td>\n",
       "      <td>NaN</td>\n",
       "      <td>NaN</td>\n",
       "      <td>NaN</td>\n",
       "      <td>NaN</td>\n",
       "      <td>NaN</td>\n",
       "      <td>NaN</td>\n",
       "    </tr>\n",
       "    <tr>\n",
       "      <th>1</th>\n",
       "      <td>NaN</td>\n",
       "      <td>NaN</td>\n",
       "      <td>NaN</td>\n",
       "      <td>NaN</td>\n",
       "      <td>NaN</td>\n",
       "      <td>NaN</td>\n",
       "      <td>NaN</td>\n",
       "      <td>NaN</td>\n",
       "      <td>NaN</td>\n",
       "      <td>NaN</td>\n",
       "    </tr>\n",
       "    <tr>\n",
       "      <th>2</th>\n",
       "      <td>NaN</td>\n",
       "      <td>Type 1</td>\n",
       "      <td>NaN</td>\n",
       "      <td>Confident</td>\n",
       "      <td>NaN</td>\n",
       "      <td>NaN</td>\n",
       "      <td>NaN</td>\n",
       "      <td>NaN</td>\n",
       "      <td>NaN</td>\n",
       "      <td>NaN</td>\n",
       "    </tr>\n",
       "    <tr>\n",
       "      <th>3</th>\n",
       "      <td>NaN</td>\n",
       "      <td>NaN</td>\n",
       "      <td>NaN</td>\n",
       "      <td>NaN</td>\n",
       "      <td>NaN</td>\n",
       "      <td>NaN</td>\n",
       "      <td>NaN</td>\n",
       "      <td>NaN</td>\n",
       "      <td>NaN</td>\n",
       "      <td>NaN</td>\n",
       "    </tr>\n",
       "    <tr>\n",
       "      <th>4</th>\n",
       "      <td>JA</td>\n",
       "      <td>Headline</td>\n",
       "      <td>NaN</td>\n",
       "      <td>NaN</td>\n",
       "      <td>NaN</td>\n",
       "      <td>NaN</td>\n",
       "      <td>NaN</td>\n",
       "      <td>NaN</td>\n",
       "      <td>NaN</td>\n",
       "      <td>NaN</td>\n",
       "    </tr>\n",
       "  </tbody>\n",
       "</table>\n",
       "</div>"
      ],
      "text/plain": [
       "  Unnamed: 0          Unnamed: 1 Unnamed: 2 Unnamed: 3 Unnamed: 4  Unnamed: 5  \\\n",
       "0        NaN  Dramatic Headline!        NaN        NaN        NaN         NaN   \n",
       "1        NaN                 NaN        NaN        NaN        NaN         NaN   \n",
       "2        NaN              Type 1        NaN  Confident        NaN         NaN   \n",
       "3        NaN                 NaN        NaN        NaN        NaN         NaN   \n",
       "4         JA           Headline         NaN        NaN        NaN         NaN   \n",
       "\n",
       "   Unnamed: 6  Unnamed: 7  Unnamed: 8  Unnamed: 9  \n",
       "0         NaN         NaN         NaN         NaN  \n",
       "1         NaN         NaN         NaN         NaN  \n",
       "2         NaN         NaN         NaN         NaN  \n",
       "3         NaN         NaN         NaN         NaN  \n",
       "4         NaN         NaN         NaN         NaN  "
      ]
     },
     "execution_count": 25,
     "metadata": {},
     "output_type": "execute_result"
    }
   ],
   "source": [
    "rdf.head()"
   ]
  },
  {
   "cell_type": "code",
   "execution_count": 43,
   "id": "221c3365-8a28-4203-939b-149a673ba70b",
   "metadata": {},
   "outputs": [
    {
     "data": {
      "text/plain": [
       "pandas.core.frame.DataFrame"
      ]
     },
     "execution_count": 43,
     "metadata": {},
     "output_type": "execute_result"
    }
   ],
   "source": [
    "# Number of rows\n",
    "len(rdf)\n",
    "type(rdf)"
   ]
  },
  {
   "cell_type": "code",
   "execution_count": 61,
   "id": "dc0ab614-c29b-489f-b1f0-e7c42ca2d6b5",
   "metadata": {},
   "outputs": [
    {
     "data": {
      "text/plain": [
       "pandas.core.frame.DataFrame"
      ]
     },
     "execution_count": 61,
     "metadata": {},
     "output_type": "execute_result"
    }
   ],
   "source": [
    "# pd.read_excel(\"complex_file.xlsx\", sheet_name=['Sheet 1', 2, 3], header=9, usecols=\"A,B,D:H\", nrows=19, dtype={'#': np.object})\n",
    "\n",
    "excel_data = pd.read_excel(source, sheet_name=[0, 1, 'Sheet 3'], header=9, usecols=\"A,B,D:H\", nrows=19) # sheet_name[0] means first worksheet in the excel file\n",
    "type(excel_data) # dict\n",
    "\n",
    "# iterate through the keys of the dictionary; from: https://stackoverflow.com/a/47769062\n",
    "# for key in excel_data:\n",
    "#      print(excel_data[key].head())\n",
    "\n",
    "# convert to data frame\n",
    "first_sheet = excel_data[0]\n",
    "\n",
    "type(first_sheet) # DataFrame"
   ]
  },
  {
   "cell_type": "code",
   "execution_count": 53,
   "id": "2fe670e2-d377-4b72-95ee-47280f57a29f",
   "metadata": {},
   "outputs": [],
   "source": []
  },
  {
   "cell_type": "code",
   "execution_count": 54,
   "id": "cc51fc55-8705-4def-84ba-50f1e04cecef",
   "metadata": {},
   "outputs": [
    {
     "data": {
      "text/html": [
       "<div>\n",
       "<style scoped>\n",
       "    .dataframe tbody tr th:only-of-type {\n",
       "        vertical-align: middle;\n",
       "    }\n",
       "\n",
       "    .dataframe tbody tr th {\n",
       "        vertical-align: top;\n",
       "    }\n",
       "\n",
       "    .dataframe thead th {\n",
       "        text-align: right;\n",
       "    }\n",
       "</style>\n",
       "<table border=\"1\" class=\"dataframe\">\n",
       "  <thead>\n",
       "    <tr style=\"text-align: right;\">\n",
       "      <th></th>\n",
       "      <th>Unnamed: 0</th>\n",
       "      <th>Ipsum lorem dae 4m</th>\n",
       "      <th>0</th>\n",
       "      <th>Unnamed: 4</th>\n",
       "      <th>Unnamed: 5</th>\n",
       "      <th>Unnamed: 6</th>\n",
       "      <th>Unnamed: 7</th>\n",
       "    </tr>\n",
       "  </thead>\n",
       "  <tbody>\n",
       "    <tr>\n",
       "      <th>0</th>\n",
       "      <td>NaN</td>\n",
       "      <td>Ipsum lorem dae 8m</td>\n",
       "      <td>-1234.52</td>\n",
       "      <td>NaN</td>\n",
       "      <td>NaN</td>\n",
       "      <td>NaN</td>\n",
       "      <td>NaN</td>\n",
       "    </tr>\n",
       "    <tr>\n",
       "      <th>1</th>\n",
       "      <td>NaN</td>\n",
       "      <td>Ipsum lorem dae 1m</td>\n",
       "      <td>-15000</td>\n",
       "      <td>NaN</td>\n",
       "      <td>NaN</td>\n",
       "      <td>NaN</td>\n",
       "      <td>NaN</td>\n",
       "    </tr>\n",
       "    <tr>\n",
       "      <th>2</th>\n",
       "      <td>NaN</td>\n",
       "      <td>NaN</td>\n",
       "      <td>NaN</td>\n",
       "      <td>NaN</td>\n",
       "      <td>NaN</td>\n",
       "      <td>NaN</td>\n",
       "      <td>NaN</td>\n",
       "    </tr>\n",
       "    <tr>\n",
       "      <th>3</th>\n",
       "      <td>NaN</td>\n",
       "      <td>Ipsum lorem dae Sum 1</td>\n",
       "      <td>659.12</td>\n",
       "      <td>NaN</td>\n",
       "      <td>NaN</td>\n",
       "      <td>NaN</td>\n",
       "      <td>NaN</td>\n",
       "    </tr>\n",
       "    <tr>\n",
       "      <th>4</th>\n",
       "      <td>NaN</td>\n",
       "      <td>Ipsum lorem dae Sum 2</td>\n",
       "      <td>557.793139</td>\n",
       "      <td>NaN</td>\n",
       "      <td>NaN</td>\n",
       "      <td>NaN</td>\n",
       "      <td>NaN</td>\n",
       "    </tr>\n",
       "  </tbody>\n",
       "</table>\n",
       "</div>"
      ],
      "text/plain": [
       "   Unnamed: 0    Ipsum lorem dae 4m            0 Unnamed: 4  Unnamed: 5  \\\n",
       "0         NaN    Ipsum lorem dae 8m     -1234.52        NaN         NaN   \n",
       "1         NaN    Ipsum lorem dae 1m       -15000        NaN         NaN   \n",
       "2         NaN                    NaN         NaN        NaN         NaN   \n",
       "3         NaN  Ipsum lorem dae Sum 1      659.12        NaN         NaN   \n",
       "4         NaN  Ipsum lorem dae Sum 2  557.793139        NaN         NaN   \n",
       "\n",
       "   Unnamed: 6  Unnamed: 7  \n",
       "0         NaN         NaN  \n",
       "1         NaN         NaN  \n",
       "2         NaN         NaN  \n",
       "3         NaN         NaN  \n",
       "4         NaN         NaN  "
      ]
     },
     "execution_count": 54,
     "metadata": {},
     "output_type": "execute_result"
    }
   ],
   "source": [
    "first_sheet.head()"
   ]
  }
 ],
 "metadata": {
  "kernelspec": {
   "display_name": "Python 3 (ipykernel)",
   "language": "python",
   "name": "python3"
  },
  "language_info": {
   "codemirror_mode": {
    "name": "ipython",
    "version": 3
   },
   "file_extension": ".py",
   "mimetype": "text/x-python",
   "name": "python",
   "nbconvert_exporter": "python",
   "pygments_lexer": "ipython3",
   "version": "3.10.4"
  }
 },
 "nbformat": 4,
 "nbformat_minor": 5
}
